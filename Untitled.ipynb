{
 "cells": [
  {
   "cell_type": "code",
   "execution_count": 1,
   "metadata": {},
   "outputs": [],
   "source": [
    "import numpy as np\n",
    "from netCDF4 import Dataset\n",
    "import pandas as pd"
   ]
  },
  {
   "cell_type": "code",
   "execution_count": 2,
   "metadata": {},
   "outputs": [],
   "source": [
    "def deseasonalize(data,freq=12):\n",
    "    n  = data.shape[1]\n",
    "    N  = data.shape[0]\n",
    "    data_deseasonal = np.zeros(data.shape)\n",
    "    for i in range(n):\n",
    "        temp = np.copy(data[:,i])\n",
    "        r = np.zeros((N))\n",
    "        for j in range(freq):\n",
    "            Idx = np.arange(j,N,freq)\n",
    "            r[Idx] = (temp[Idx] - temp[Idx].mean())/temp[Idx].std()\n",
    "        data_deseasonal[:,i] = np.copy(r)\n",
    "    return(data_deseasonal)"
   ]
  },
  {
   "cell_type": "code",
   "execution_count": 88,
   "metadata": {},
   "outputs": [],
   "source": [
    "#f_sst = Dataset('sst.mnmean.nc')\n",
    "#f_sst_anomaly = Dataset('sst.mon.ltm.1981-2010.nc')\n",
    "f_sat = Dataset('air.mon.mean.nc')\n",
    "\n",
    "data_sat = f_sat.variables['air']\n",
    "lon_sat = f_sat.variables['lon'][:]\n",
    "lat_sat = f_sat.variables['lat'][:]\n",
    "time_sat = f_sat.variables['time'][:]\n",
    "data_sat = np.swapaxes(data_sat,0,2)\n",
    "\n",
    "# SAT:\n",
    "\n",
    "result_sat = []\n",
    "index = []\n",
    "lat_sat_list = []\n",
    "lon_sat_list =[]\n",
    "\n",
    "for i in range(data_sat.shape[0]):\n",
    "    for j in range(data_sat.shape[1]):\n",
    "        if not data_sat[i,j,-1]<-9.9e+36:\n",
    "            result_sat.append(data_sat[i,j,:-43])\n",
    "            #result_sat.append(data_sat[i,j,:])\n",
    "            index.append((lon_sat[i],lat_sat[j]))\n",
    "            lon_sat_list.append(lon_sat[i])\n",
    "            lat_sat_list.append(lat_sat[j])"
   ]
  },
  {
   "cell_type": "code",
   "execution_count": 89,
   "metadata": {},
   "outputs": [],
   "source": [
    "result_sat = np.matrix(result_sat)\n",
    "result_sat = result_sat.transpose()\n",
    "data = pd.DataFrame(result_sat)"
   ]
  },
  {
   "cell_type": "code",
   "execution_count": 90,
   "metadata": {},
   "outputs": [
    {
     "data": {
      "text/plain": [
       "(817, 10512)"
      ]
     },
     "execution_count": 90,
     "metadata": {},
     "output_type": "execute_result"
    }
   ],
   "source": [
    "data.shape"
   ]
  },
  {
   "cell_type": "code",
   "execution_count": 91,
   "metadata": {},
   "outputs": [],
   "source": [
    "x = data.iloc[:,1000].values"
   ]
  },
  {
   "cell_type": "code",
   "execution_count": 92,
   "metadata": {},
   "outputs": [],
   "source": [
    "N = len(x)"
   ]
  },
  {
   "cell_type": "code",
   "execution_count": 93,
   "metadata": {},
   "outputs": [],
   "source": [
    "freq = 12"
   ]
  },
  {
   "cell_type": "code",
   "execution_count": 94,
   "metadata": {},
   "outputs": [],
   "source": [
    "temp = np.copy(x)\n",
    "r = np.zeros((N))\n",
    "for j in range(freq):\n",
    "    Idx = np.arange(j,N,freq)\n",
    "    r[Idx] = (temp[Idx] - temp[Idx].mean())/temp[Idx].std()"
   ]
  },
  {
   "cell_type": "code",
   "execution_count": 98,
   "metadata": {},
   "outputs": [
    {
     "data": {
      "text/plain": [
       "array([-1.49064553e+00, -9.47892129e-01, -8.70314837e-01, -1.24064314e+00,\n",
       "       -6.06053889e-01,  1.09457004e+00,  2.53120214e-01, -1.51414275e+00,\n",
       "       -9.40646350e-01,  8.13141227e-01, -2.58197665e-01,  1.56291544e-01,\n",
       "       -1.10467350e+00, -8.15953612e-01, -1.15627682e+00, -2.41788909e-01,\n",
       "       -1.23314941e+00,  3.38629663e-01, -2.33690357e+00, -9.96029735e-01,\n",
       "       -1.01937878e+00, -1.10984170e+00, -1.52871296e-01,  1.51205013e-05,\n",
       "       -3.69327307e-01,  2.33862743e-01,  4.33187246e-01,  2.23674551e-01,\n",
       "        1.30925387e-01,  7.36135542e-01, -6.56840622e-01,  1.03681278e+00,\n",
       "        7.96284914e-01, -8.06902528e-01, -1.71000764e-01, -7.08945870e-01,\n",
       "        1.04067755e+00,  5.77663630e-02, -2.54239112e-01,  1.34711874e+00,\n",
       "       -1.16191976e-01, -7.07808793e-01,  4.62638944e-01,  9.34316933e-01,\n",
       "        2.56329083e+00,  1.46319270e+00, -2.49064900e-02,  6.33630633e-01,\n",
       "        1.31677485e+00, -3.11300866e-02, -1.72478342e+00, -7.15163410e-01,\n",
       "        2.12865210e+00,  8.38220119e-02, -1.39239252e+00,  1.67837858e+00,\n",
       "        1.13252556e+00,  5.15863121e-01, -3.87871087e-01,  3.00123811e-01,\n",
       "       -2.40836322e-01, -1.32047939e+00,  3.44287753e-01,  1.06285930e+00,\n",
       "        6.74374342e-01,  1.01812983e+00,  2.03171158e+00,  6.27679229e-01])"
      ]
     },
     "execution_count": 98,
     "metadata": {},
     "output_type": "execute_result"
    }
   ],
   "source": [
    "r[Idx]"
   ]
  },
  {
   "cell_type": "code",
   "execution_count": 96,
   "metadata": {},
   "outputs": [],
   "source": [
    "Idx = np.arange(1,N,freq)"
   ]
  },
  {
   "cell_type": "code",
   "execution_count": 97,
   "metadata": {},
   "outputs": [
    {
     "data": {
      "text/plain": [
       "array([-1.49064553e+00, -9.47892129e-01, -8.70314837e-01, -1.24064314e+00,\n",
       "       -6.06053889e-01,  1.09457004e+00,  2.53120214e-01, -1.51414275e+00,\n",
       "       -9.40646350e-01,  8.13141227e-01, -2.58197665e-01,  1.56291544e-01,\n",
       "       -1.10467350e+00, -8.15953612e-01, -1.15627682e+00, -2.41788909e-01,\n",
       "       -1.23314941e+00,  3.38629663e-01, -2.33690357e+00, -9.96029735e-01,\n",
       "       -1.01937878e+00, -1.10984170e+00, -1.52871296e-01,  1.51205013e-05,\n",
       "       -3.69327307e-01,  2.33862743e-01,  4.33187246e-01,  2.23674551e-01,\n",
       "        1.30925387e-01,  7.36135542e-01, -6.56840622e-01,  1.03681278e+00,\n",
       "        7.96284914e-01, -8.06902528e-01, -1.71000764e-01, -7.08945870e-01,\n",
       "        1.04067755e+00,  5.77663630e-02, -2.54239112e-01,  1.34711874e+00,\n",
       "       -1.16191976e-01, -7.07808793e-01,  4.62638944e-01,  9.34316933e-01,\n",
       "        2.56329083e+00,  1.46319270e+00, -2.49064900e-02,  6.33630633e-01,\n",
       "        1.31677485e+00, -3.11300866e-02, -1.72478342e+00, -7.15163410e-01,\n",
       "        2.12865210e+00,  8.38220119e-02, -1.39239252e+00,  1.67837858e+00,\n",
       "        1.13252556e+00,  5.15863121e-01, -3.87871087e-01,  3.00123811e-01,\n",
       "       -2.40836322e-01, -1.32047939e+00,  3.44287753e-01,  1.06285930e+00,\n",
       "        6.74374342e-01,  1.01812983e+00,  2.03171158e+00,  6.27679229e-01],\n",
       "      dtype=float32)"
      ]
     },
     "execution_count": 97,
     "metadata": {},
     "output_type": "execute_result"
    }
   ],
   "source": [
    "(x[Idx] - x[Idx].mean())/x[Idx].std()"
   ]
  },
  {
   "cell_type": "code",
   "execution_count": 99,
   "metadata": {},
   "outputs": [],
   "source": [
    "x = np.reshape(x,(817,1))"
   ]
  },
  {
   "cell_type": "code",
   "execution_count": 100,
   "metadata": {},
   "outputs": [],
   "source": [
    "x1 = deseasonalize(x)"
   ]
  },
  {
   "cell_type": "code",
   "execution_count": 101,
   "metadata": {},
   "outputs": [
    {
     "data": {
      "text/plain": [
       "array([[-1.49064553e+00],\n",
       "       [-9.47892129e-01],\n",
       "       [-8.70314837e-01],\n",
       "       [-1.24064314e+00],\n",
       "       [-6.06053889e-01],\n",
       "       [ 1.09457004e+00],\n",
       "       [ 2.53120214e-01],\n",
       "       [-1.51414275e+00],\n",
       "       [-9.40646350e-01],\n",
       "       [ 8.13141227e-01],\n",
       "       [-2.58197665e-01],\n",
       "       [ 1.56291544e-01],\n",
       "       [-1.10467350e+00],\n",
       "       [-8.15953612e-01],\n",
       "       [-1.15627682e+00],\n",
       "       [-2.41788909e-01],\n",
       "       [-1.23314941e+00],\n",
       "       [ 3.38629663e-01],\n",
       "       [-2.33690357e+00],\n",
       "       [-9.96029735e-01],\n",
       "       [-1.01937878e+00],\n",
       "       [-1.10984170e+00],\n",
       "       [-1.52871296e-01],\n",
       "       [ 1.51205013e-05],\n",
       "       [-3.69327307e-01],\n",
       "       [ 2.33862743e-01],\n",
       "       [ 4.33187246e-01],\n",
       "       [ 2.23674551e-01],\n",
       "       [ 1.30925387e-01],\n",
       "       [ 7.36135542e-01],\n",
       "       [-6.56840622e-01],\n",
       "       [ 1.03681278e+00],\n",
       "       [ 7.96284914e-01],\n",
       "       [-8.06902528e-01],\n",
       "       [-1.71000764e-01],\n",
       "       [-7.08945870e-01],\n",
       "       [ 1.04067755e+00],\n",
       "       [ 5.77663630e-02],\n",
       "       [-2.54239112e-01],\n",
       "       [ 1.34711874e+00],\n",
       "       [-1.16191976e-01],\n",
       "       [-7.07808793e-01],\n",
       "       [ 4.62638944e-01],\n",
       "       [ 9.34316933e-01],\n",
       "       [ 2.56329083e+00],\n",
       "       [ 1.46319270e+00],\n",
       "       [-2.49064900e-02],\n",
       "       [ 6.33630633e-01],\n",
       "       [ 1.31677485e+00],\n",
       "       [-3.11300866e-02],\n",
       "       [-1.72478342e+00],\n",
       "       [-7.15163410e-01],\n",
       "       [ 2.12865210e+00],\n",
       "       [ 8.38220119e-02],\n",
       "       [-1.39239252e+00],\n",
       "       [ 1.67837858e+00],\n",
       "       [ 1.13252556e+00],\n",
       "       [ 5.15863121e-01],\n",
       "       [-3.87871087e-01],\n",
       "       [ 3.00123811e-01],\n",
       "       [-2.40836322e-01],\n",
       "       [-1.32047939e+00],\n",
       "       [ 3.44287753e-01],\n",
       "       [ 1.06285930e+00],\n",
       "       [ 6.74374342e-01],\n",
       "       [ 1.01812983e+00],\n",
       "       [ 2.03171158e+00],\n",
       "       [ 6.27679229e-01]])"
      ]
     },
     "execution_count": 101,
     "metadata": {},
     "output_type": "execute_result"
    }
   ],
   "source": [
    "x1[Idx]"
   ]
  },
  {
   "cell_type": "code",
   "execution_count": null,
   "metadata": {},
   "outputs": [],
   "source": []
  },
  {
   "cell_type": "code",
   "execution_count": null,
   "metadata": {},
   "outputs": [],
   "source": [
    "np.where(x.values >= np.finfo(np.float64).max)"
   ]
  },
  {
   "cell_type": "code",
   "execution_count": null,
   "metadata": {},
   "outputs": [],
   "source": [
    "from sklearn.manifold import TSNE\n",
    "X = result\n",
    "X_embedded = TSNE(n_components=3).fit_transform(X)\n",
    "\n",
    "from mpl_toolkits.mplot3d import Axes3D\n",
    "import matplotlib.pyplot as plt\n",
    "\n",
    "fig = plt.figure()\n",
    "ax = fig.add_subplot(111, projection='3d')\n",
    "\n",
    "ax.scatter(*zip(*X_embedded))\n",
    "plt.show()\n",
    "\n",
    "n_components = 3\n",
    "Matrix = X_embedded\n",
    "#Matrix1 = Matrix1/Matrix1.sum(axis=0)\n",
    "Matrix = Matrix/Matrix.sum(axis=0)\n",
    "#Matrix, R, indx = orthomax(Matrix)\n",
    "\n",
    "\n",
    "loading = pd.DataFrame(pf.varimax(Matrix, q=1000))\n",
    "#loading = pd.DataFrame(Matrix)\n",
    "#loading = loading.abs()\n",
    "#loading = loading/loading.sum()\n",
    "\n",
    "clusters = loading.idxmax(axis=1)\n",
    "df = pd.DataFrame({\"lons\":lon_list,\"lats\":lat_list,\"clusters\":clusters.values.tolist()})\n",
    "\n",
    "lon_temp = df[\"lons\"].values\n",
    "lon_temp[lon_temp > 180] = lon_temp[lon_temp > 180] -360\n",
    "df[\"lons\"].vlues = lon_temp"
   ]
  }
 ],
 "metadata": {
  "kernelspec": {
   "display_name": "Python 3",
   "language": "python",
   "name": "python3"
  },
  "language_info": {
   "codemirror_mode": {
    "name": "ipython",
    "version": 3
   },
   "file_extension": ".py",
   "mimetype": "text/x-python",
   "name": "python",
   "nbconvert_exporter": "python",
   "pygments_lexer": "ipython3",
   "version": "3.6.9"
  }
 },
 "nbformat": 4,
 "nbformat_minor": 2
}
